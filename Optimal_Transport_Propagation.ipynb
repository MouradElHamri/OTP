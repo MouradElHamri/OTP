{
 "cells": [
  {
   "cell_type": "code",
   "execution_count": 12,
   "metadata": {},
   "outputs": [],
   "source": [
    "import ot\n",
    "import numpy as np\n",
    "import pandas as pd\n",
    "import sys, os ,warnings\n",
    "import math, random, statistics\n",
    "from scipy.stats import entropy\n",
    "from sklearn import preprocessing\n",
    "from contextlib import contextmanager\n",
    "from sklearn.metrics import accuracy_score\n",
    "from sklearn.model_selection import train_test_split\n",
    "from sklearn.metrics.cluster import normalized_mutual_info_score, adjusted_rand_score"
   ]
  },
  {
   "cell_type": "code",
   "execution_count": 13,
   "metadata": {},
   "outputs": [],
   "source": [
    "@contextmanager\n",
    "def suppress_stdout():\n",
    "    with open(os.devnull, \"w\") as devnull:\n",
    "        old_stdout = sys.stdout\n",
    "        sys.stdout = devnull\n",
    "        try:  \n",
    "            yield\n",
    "        finally:\n",
    "            sys.stdout = old_stdout\n",
    "\n",
    "warnings.filterwarnings(\"ignore\")\n",
    "\n",
    "min_max_scaler = preprocessing.MinMaxScaler()"
   ]
  },
  {
   "cell_type": "markdown",
   "metadata": {},
   "source": [
    "# OTP algorithm"
   ]
  },
  {
   "cell_type": "code",
   "execution_count": 14,
   "metadata": {},
   "outputs": [],
   "source": [
    "def OptimalTransportPropagation(X_L, X_U, Y_L, epsilon, alpha, metric, kClass, a=None, b=None):\n",
    "    nbLabelled = X_L.shape[0]\n",
    "    y_true_index = []\n",
    "    alpha_0=alpha\n",
    "    while len(X_U)>0:\n",
    "        M = ot.dist(X_L,X_U,metric=metric)\n",
    "        if(a==None):\n",
    "            a = np.repeat((1/M.shape[0]),M.shape[0])\n",
    "        if(b==None):\n",
    "            b = np.repeat((1/M.shape[1]),M.shape[1])   \n",
    "        with suppress_stdout():\n",
    "            T = ot.bregman.sinkhorn_knopp(a=a, b=b, M=M, reg=epsilon)\n",
    "        P = T / T.sum(0,keepdims=True)\n",
    "        df = pd.DataFrame(P)\n",
    "        df['key'] = Y_L.values\n",
    "        df = df.groupby('key').aggregate('sum')\n",
    "        U = df.to_numpy().T\n",
    "        y_pseudo = np.argmax(U,1)\n",
    "        Certainty_scores = 1 - (entropy(U,axis=1)/math.log(kClass.size))\n",
    "        alpha=min(alpha,max(Certainty_scores))\n",
    "        sup_alpha = np.where(Certainty_scores>=alpha)[0]\n",
    "        Y_L = Y_L.append(pd.Series(y_pseudo[sup_alpha]), ignore_index=True)\n",
    "        Score = pd.Series(Certainty_scores, index=X_U.index)\n",
    "        true_index = Score[Score>=alpha].index.to_list()\n",
    "        y_true_index.extend(true_index)\n",
    "        X_L = X_L.append(X_U.loc[true_index], ignore_index=True)        \n",
    "        X_U = X_U[Score<alpha]            \n",
    "        a=b=None\n",
    "        alpha=alpha_0\n",
    "    X_U = X_L.iloc[nbLabelled:]\n",
    "    X_U.reset_index(drop=True, inplace=True)\n",
    "    X_U.index = y_true_index\n",
    "    Y_U_predicted = Y_L.iloc[nbLabelled:]\n",
    "    Y_U_predicted.reset_index(drop=True, inplace=True)\n",
    "    Y_U_predicted.index = y_true_index\n",
    "    Y_U_predicted = Y_U_predicted.sort_index()\n",
    "    X_L = X_L.iloc[:nbLabelled]   \n",
    "    Y_L = Y_L.iloc[:nbLabelled]\n",
    "    X_U = X_U.sort_index()\n",
    "    return X_L, X_U, Y_L, Y_U_predicted"
   ]
  },
  {
   "cell_type": "markdown",
   "metadata": {},
   "source": [
    "# Generate Data : Iris and Digits Datasets"
   ]
  },
  {
   "cell_type": "code",
   "execution_count": 15,
   "metadata": {},
   "outputs": [],
   "source": [
    "def Read_Data(dataName):\n",
    "    dataFile = \"./data/\"+ dataName+\".csv\"\n",
    "    data = pd.read_csv(dataFile, sep=\",\", header=None)\n",
    "    if(dataName==\"Iris\"):\n",
    "        X = data.loc[:,:3] \n",
    "        Y = data.loc[:,4]\n",
    "        reg = 0.016\n",
    "        alpha = 0.9\n",
    "    if(dataName==\"Digits\"):\n",
    "        X = data.loc[:,:63]\n",
    "        X = pd.DataFrame(min_max_scaler.fit_transform(X))\n",
    "        Y = data.loc[:,64]\n",
    "        reg = 0.01\n",
    "        alpha = 0.9\n",
    "    kClass = np.unique(Y)\n",
    "    return X,Y,kClass,reg,alpha"
   ]
  },
  {
   "cell_type": "markdown",
   "metadata": {},
   "source": [
    "# Training"
   ]
  },
  {
   "cell_type": "code",
   "execution_count": 16,
   "metadata": {},
   "outputs": [],
   "source": [
    "def Training(dataName):\n",
    "    T_size=[0.85,0.75,0.65]\n",
    "    X, Y, kClass, reg, alpha = Read_Data(dataName)\n",
    "    states=[random.randint(0,2000) for cv in range(10)]\n",
    "    AccuracyOTP, NmiOTP, AriOTP = [], [], []\n",
    "    for size in T_size: \n",
    "        Accuracy_list, Nmi_list, Ari_list = [], [], []\n",
    "        for seed in states:\n",
    "            X_L, X_U, Y_L, Y_U = train_test_split(X, Y, test_size=size, random_state=seed, stratify=Y)\n",
    "            X_L.reset_index(drop=True, inplace=True)\n",
    "            X_U.reset_index(drop=True, inplace=True)\n",
    "            Y_L.reset_index(drop=True, inplace=True)\n",
    "            Y_U.reset_index(drop=True, inplace=True)\n",
    "            X_L, X_U_, Y_L, Y_U_Pred = OptimalTransportPropagation(X_L, X_U, Y_L, epsilon=reg, alpha=alpha,\n",
    "                                                                   metric=\"sqeuclidean\", kClass=kClass)\n",
    "            Accuracy_list.append(round(accuracy_score(Y_U, Y_U_Pred, normalize=True),4))\n",
    "            Nmi_list.append(round(normalized_mutual_info_score(Y_U, Y_U_Pred),4))\n",
    "            Ari_list.append(round(adjusted_rand_score(Y_U, Y_U_Pred),4))\n",
    "        AccuracyOTP.append(statistics.mean(Accuracy_list))\n",
    "        NmiOTP.append(statistics.mean(Nmi_list))\n",
    "        AriOTP.append(statistics.mean(Ari_list))\n",
    "    results = pd.DataFrame(data=np.transpose([AccuracyOTP, NmiOTP, AriOTP]), \n",
    "            columns=[\"OTP_ACC\", \"OTP_NMI\", \"OTP_ARI\"], \n",
    "            index=[\"Amount_Prior_Information = 15%\",\"Amount_Prior_Information = 25%\",\"Amount_Prior_Information = 35%\"])   \n",
    "    return results"
   ]
  },
  {
   "cell_type": "markdown",
   "metadata": {},
   "source": [
    "# Experimentations"
   ]
  },
  {
   "cell_type": "markdown",
   "metadata": {},
   "source": [
    "# Iris "
   ]
  },
  {
   "cell_type": "code",
   "execution_count": 158,
   "metadata": {
    "scrolled": false
   },
   "outputs": [],
   "source": [
    "results = Training(\"Iris\")"
   ]
  },
  {
   "cell_type": "code",
   "execution_count": 159,
   "metadata": {},
   "outputs": [
    {
     "data": {
      "text/html": [
       "<div>\n",
       "<style scoped>\n",
       "    .dataframe tbody tr th:only-of-type {\n",
       "        vertical-align: middle;\n",
       "    }\n",
       "\n",
       "    .dataframe tbody tr th {\n",
       "        vertical-align: top;\n",
       "    }\n",
       "\n",
       "    .dataframe thead th {\n",
       "        text-align: right;\n",
       "    }\n",
       "</style>\n",
       "<table border=\"1\" class=\"dataframe\">\n",
       "  <thead>\n",
       "    <tr style=\"text-align: right;\">\n",
       "      <th></th>\n",
       "      <th>OTP_ACC</th>\n",
       "      <th>OTP_NMI</th>\n",
       "      <th>OTP_ARI</th>\n",
       "    </tr>\n",
       "  </thead>\n",
       "  <tbody>\n",
       "    <tr>\n",
       "      <th>Amount_Prior_Information = 15%</th>\n",
       "      <td>0.9609</td>\n",
       "      <td>0.8650</td>\n",
       "      <td>0.8870</td>\n",
       "    </tr>\n",
       "    <tr>\n",
       "      <th>Amount_Prior_Information = 25%</th>\n",
       "      <td>0.9735</td>\n",
       "      <td>0.8995</td>\n",
       "      <td>0.9214</td>\n",
       "    </tr>\n",
       "    <tr>\n",
       "      <th>Amount_Prior_Information = 35%</th>\n",
       "      <td>0.9694</td>\n",
       "      <td>0.9052</td>\n",
       "      <td>0.9097</td>\n",
       "    </tr>\n",
       "  </tbody>\n",
       "</table>\n",
       "</div>"
      ],
      "text/plain": [
       "                                OTP_ACC  OTP_NMI  OTP_ARI\n",
       "Amount_Prior_Information = 15%   0.9609   0.8650   0.8870\n",
       "Amount_Prior_Information = 25%   0.9735   0.8995   0.9214\n",
       "Amount_Prior_Information = 35%   0.9694   0.9052   0.9097"
      ]
     },
     "execution_count": 159,
     "metadata": {},
     "output_type": "execute_result"
    }
   ],
   "source": [
    "results"
   ]
  },
  {
   "cell_type": "markdown",
   "metadata": {},
   "source": [
    "# Digits "
   ]
  },
  {
   "cell_type": "code",
   "execution_count": 161,
   "metadata": {
    "scrolled": false
   },
   "outputs": [],
   "source": [
    "results=Training(\"Digits\")"
   ]
  },
  {
   "cell_type": "code",
   "execution_count": 162,
   "metadata": {},
   "outputs": [
    {
     "data": {
      "text/html": [
       "<div>\n",
       "<style scoped>\n",
       "    .dataframe tbody tr th:only-of-type {\n",
       "        vertical-align: middle;\n",
       "    }\n",
       "\n",
       "    .dataframe tbody tr th {\n",
       "        vertical-align: top;\n",
       "    }\n",
       "\n",
       "    .dataframe thead th {\n",
       "        text-align: right;\n",
       "    }\n",
       "</style>\n",
       "<table border=\"1\" class=\"dataframe\">\n",
       "  <thead>\n",
       "    <tr style=\"text-align: right;\">\n",
       "      <th></th>\n",
       "      <th>OTP_ACC</th>\n",
       "      <th>OTP_NMI</th>\n",
       "      <th>OTP_ARI</th>\n",
       "    </tr>\n",
       "  </thead>\n",
       "  <tbody>\n",
       "    <tr>\n",
       "      <th>Amount_Prior_Information = 15%</th>\n",
       "      <td>0.9398</td>\n",
       "      <td>0.8759</td>\n",
       "      <td>0.8735</td>\n",
       "    </tr>\n",
       "    <tr>\n",
       "      <th>Amount_Prior_Information = 25%</th>\n",
       "      <td>0.9503</td>\n",
       "      <td>0.8978</td>\n",
       "      <td>0.8947</td>\n",
       "    </tr>\n",
       "    <tr>\n",
       "      <th>Amount_Prior_Information = 35%</th>\n",
       "      <td>0.9718</td>\n",
       "      <td>0.9399</td>\n",
       "      <td>0.9391</td>\n",
       "    </tr>\n",
       "  </tbody>\n",
       "</table>\n",
       "</div>"
      ],
      "text/plain": [
       "                                OTP_ACC  OTP_NMI  OTP_ARI\n",
       "Amount_Prior_Information = 15%   0.9398   0.8759   0.8735\n",
       "Amount_Prior_Information = 25%   0.9503   0.8978   0.8947\n",
       "Amount_Prior_Information = 35%   0.9718   0.9399   0.9391"
      ]
     },
     "execution_count": 162,
     "metadata": {},
     "output_type": "execute_result"
    }
   ],
   "source": [
    "results"
   ]
  },
  {
   "cell_type": "code",
   "execution_count": null,
   "metadata": {},
   "outputs": [],
   "source": []
  }
 ],
 "metadata": {
  "kernelspec": {
   "display_name": "Python 3",
   "language": "python",
   "name": "python3"
  },
  "language_info": {
   "codemirror_mode": {
    "name": "ipython",
    "version": 3
   },
   "file_extension": ".py",
   "mimetype": "text/x-python",
   "name": "python",
   "nbconvert_exporter": "python",
   "pygments_lexer": "ipython3",
   "version": "3.7.6"
  }
 },
 "nbformat": 4,
 "nbformat_minor": 4
}
